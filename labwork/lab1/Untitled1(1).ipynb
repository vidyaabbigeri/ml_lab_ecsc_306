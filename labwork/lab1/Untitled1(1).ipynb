{
 "cells": [
  {
   "cell_type": "code",
   "execution_count": 2,
   "metadata": {},
   "outputs": [
    {
     "name": "stdout",
     "output_type": "stream",
     "text": [
      "96\n"
     ]
    }
   ],
   "source": [
    "import tensorflow as tf\n",
    "a=tf.constant(3,name='a')\n",
    "b=tf.constant(4,name='b')\n",
    "c=tf.constant(5,name='c')\n",
    "a1=tf.square(a,name='a1')\n",
    "b1=tf.square(b,name='b1')\n",
    "c1=tf.square(c,name='c1')\n",
    "e=tf.add(a1,b1)\n",
    "e1=tf.add(e,c1)\n",
    "f=tf.multiply(a,b)\n",
    "w=tf.multiply(c,a)\n",
    "y=tf.multiply(b,c)\n",
    "g=tf.constant(2,name='g')\n",
    "h=tf.multiply(g,f)\n",
    "h1=tf.multiply(g,w)\n",
    "h2=tf.multiply(g,y)\n",
    "s1=tf.subtract(h,h1)\n",
    "s2=tf.subtract(s1,h2)\n",
    "result=tf.subtract(e1,s2)\n",
    "with tf.Session() as session:\n",
    "    writer = tf.summary.FileWriter(\"/tmp/tboard/output1\", session.graph)\n",
    "print(session.run(result))\n",
    "writer.close()"
   ]
  },
  {
   "cell_type": "code",
   "execution_count": null,
   "metadata": {
    "collapsed": true
   },
   "outputs": [],
   "source": []
  }
 ],
 "metadata": {
  "kernelspec": {
   "display_name": "Python 3",
   "language": "python",
   "name": "python3"
  },
  "language_info": {
   "codemirror_mode": {
    "name": "ipython",
    "version": 3
   },
   "file_extension": ".py",
   "mimetype": "text/x-python",
   "name": "python",
   "nbconvert_exporter": "python",
   "pygments_lexer": "ipython3",
   "version": "3.6.1"
  }
 },
 "nbformat": 4,
 "nbformat_minor": 2
}
