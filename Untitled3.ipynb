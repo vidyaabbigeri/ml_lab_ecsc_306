{
 "cells": [
  {
   "cell_type": "code",
   "execution_count": 2,
   "metadata": {
    "collapsed": true
   },
   "outputs": [],
   "source": [
    "import tensorflow as tf\n",
    "import numpy as np\n",
    "rng = np.random\n",
    "\n",
    "import matplotlib.pyplot as plt\n",
    "learning_rate = 0.0001\n",
    "training_epochs = 1000\n",
    "display_step = 50"
   ]
  },
  {
   "cell_type": "code",
   "execution_count": 3,
   "metadata": {},
   "outputs": [
    {
     "name": "stdout",
     "output_type": "stream",
     "text": [
      "-0.6499\n"
     ]
    }
   ],
   "source": [
    "with tf.name_scope(\"Creation_of_array\"):\n",
    "    x_array=np.asarray([1.0,7.7,5.32,7.88,-4.23,0.11,6.57,-1.25,-3.31,9.45])\n",
    "    y_array=np.asarray([1.77,2.24,-1.08,3.25,7.41,4.09,-3.66,-22.77,0.001,2.25])\n",
    "    x = tf.constant(x_array,dtype = tf.float32,name = \"x_array\")\n",
    "    y = tf.constant(y_array,dtype = tf.float32, name= \"y_array\")\n",
    "with tf.name_scope(\"Calculating_y_mean\"):\n",
    "    mean_y = tf.reduce_mean(y, name = \"mean_y\")\n",
    "    with tf.Session() as sess:\n",
    "        result_y = sess.run(mean_y)\n",
    "        print(result_y)"
   ]
  },
  {
   "cell_type": "code",
   "execution_count": 4,
   "metadata": {},
   "outputs": [
    {
     "name": "stdout",
     "output_type": "stream",
     "text": [
      "2.924\n",
      "22.808\n"
     ]
    }
   ],
   "source": [
    "with tf.name_scope(\"Calculating_x_mean_and_x_variance\"):\n",
    "    mean_x, variance = tf.nn.moments(x, [0], name = \"mean_x_and_variance_x\")\n",
    "    with tf.Session() as sess:\n",
    "        m, v = sess.run([mean_x, variance])\n",
    "        print(m)\n",
    "        print(v)"
   ]
  },
  {
   "cell_type": "code",
   "execution_count": 5,
   "metadata": {},
   "outputs": [
    {
     "name": "stdout",
     "output_type": "stream",
     "text": [
      "5.26666\n"
     ]
    }
   ],
   "source": [
    "with tf.name_scope(\"Calculating_covariance\"):\n",
    "    def tensorflow_covariance(x_array,y_array,x_mean,y_mean):\n",
    "        cov = 0.0\n",
    "        for i in range(0,10):\n",
    "            x_val = tf.subtract(x_array[i],x_mean, name=\"Finding_difference_of_xval_and_mean\")\n",
    "            y_val = tf.subtract(y_array[i],y_mean, name=\"Finding_difference_of_yval_and_mean\")\n",
    "            total_val = tf.multiply(x_val,y_val, name=\"Multiplying_found_values\")\n",
    "            cov = tf.add(cov,total_val, name=\"Recursive_addition\")\n",
    "        return cov/10.0\n",
    "    with tf.Session() as sess:\n",
    "        covar = sess.run(tensorflow_covariance(x,y,m,result_y))\n",
    "        print(covar)"
   ]
  },
  {
   "cell_type": "code",
   "execution_count": 6,
   "metadata": {},
   "outputs": [
    {
     "name": "stdout",
     "output_type": "stream",
     "text": [
      "0.230913\n",
      "-1.32509\n"
     ]
    }
   ],
   "source": [
    "with tf.name_scope(\"Calculating_slope_m_and_c\"):\n",
    "    slope = tf.div(covar,v,name=\"Finding_slope\")\n",
    "    intm = tf.multiply(slope,m,name = \"Intermediate_step\")\n",
    "    c_intm = tf.subtract(result_y,intm,name = \"Finding_c\")\n",
    "\n",
    "    with tf.Session() as sess:\n",
    "        m_slope = sess.run(slope)\n",
    "        c = sess.run(c_intm)\n",
    "        print(m_slope)\n",
    "        print(c)"
   ]
  },
  {
   "cell_type": "code",
   "execution_count": 7,
   "metadata": {},
   "outputs": [
    {
     "name": "stdout",
     "output_type": "stream",
     "text": [
      "Epoch: 0050 cost= 31.332830429 W= 0.43083 b= -1.16942\n",
      "Epoch: 0100 cost= 31.136615753 W= 0.399727 b= -1.17288\n",
      "Epoch: 0150 cost= 30.993616104 W= 0.373182 b= -1.17591\n",
      "Epoch: 0200 cost= 30.889398575 W= 0.350529 b= -1.17856\n",
      "Epoch: 0250 cost= 30.813440323 W= 0.331197 b= -1.18089\n",
      "Epoch: 0300 cost= 30.758077621 W= 0.314701 b= -1.18295\n",
      "Epoch: 0350 cost= 30.717721939 W= 0.300625 b= -1.18477\n",
      "Epoch: 0400 cost= 30.688299179 W= 0.288617 b= -1.1864\n",
      "Epoch: 0450 cost= 30.666851044 W= 0.278372 b= -1.18786\n",
      "Epoch: 0500 cost= 30.651208878 W= 0.269634 b= -1.18917\n",
      "Epoch: 0550 cost= 30.639801025 W= 0.26218 b= -1.19036\n",
      "Epoch: 0600 cost= 30.631475449 W= 0.255824 b= -1.19144\n",
      "Epoch: 0650 cost= 30.625392914 W= 0.250404 b= -1.19243\n",
      "Epoch: 0700 cost= 30.620956421 W= 0.245784 b= -1.19334\n",
      "Epoch: 0750 cost= 30.617706299 W= 0.241846 b= -1.19418\n",
      "Epoch: 0800 cost= 30.615325928 W= 0.238491 b= -1.19497\n",
      "Epoch: 0850 cost= 30.613582611 W= 0.235633 b= -1.19571\n",
      "Epoch: 0900 cost= 30.612298965 W= 0.233199 b= -1.19641\n",
      "Epoch: 0950 cost= 30.611354828 W= 0.231128 b= -1.19707\n",
      "Epoch: 1000 cost= 30.610652924 W= 0.229366 b= -1.1977\n",
      "Optimization Finished!\n",
      "Training cost= 30.6107 W= 0.229366 b= -1.1977 \n",
      "\n"
     ]
    },
    {
     "data": {
      "image/png": "[encoded data removed]",
      "text/plain": [
       "<matplotlib.figure.Figure at 0x7f7c44451128>"
      ]
     },
     "metadata": {},
     "output_type": "display_data"
    }
   ],
   "source": [
    "with tf.name_scope(\"Plotting\"):\n",
    "    n_samples = x_array.shape[0]\n",
    "    X = tf.placeholder(\"float\")\n",
    "    Y = tf.placeholder(\"float\")\n",
    "\n",
    "    # Set model weights\n",
    "    W = tf.Variable(rng.randn(), name=\"weight\")\n",
    "    b = tf.Variable(rng.randn(), name=\"bias\")\n",
    "\n",
    "    # Construct a linear model\n",
    "    pred = tf.add(tf.multiply(X, W), b)\n",
    "\n",
    "\n",
    "    # Mean squared error\n",
    "    cost = tf.reduce_sum(tf.pow(pred-Y, 2))/(2*n_samples)\n",
    "    # Gradient descent\n",
    "    optimizer = tf.train.GradientDescentOptimizer(learning_rate).minimize(cost)\n",
    "\n",
    "    # Initializing the variables\n",
    "    init = tf.global_variables_initializer()\n",
    "\n",
    "    # Launch the graph\n",
    "    with tf.Session() as sess:\n",
    "        sess.run(init)\n",
    "\n",
    "        # Fit all training data\n",
    "        for epoch in range(training_epochs):\n",
    "            for (p, r) in zip(x_array, y_array):\n",
    "                sess.run(optimizer, feed_dict={X: p, Y: r})\n",
    "\n",
    "            # Display logs per epoch step\n",
    "            if (epoch+1) % display_step == 0:\n",
    "                c = sess.run(cost, feed_dict={X: x_array, Y:y_array})\n",
    "                print(\"Epoch:\", '%04d' % (epoch+1), \"cost=\", \"{:.9f}\".format(c), \\\n",
    "                    \"W=\", sess.run(W), \"b=\", sess.run(b))\n",
    "\n",
    "        print(\"Optimization Finished!\")\n",
    "        training_cost = sess.run(cost, feed_dict={X: x_array, Y: y_array})\n",
    "        print(\"Training cost=\", training_cost, \"W=\", sess.run(W), \"b=\", sess.run(b), '\\n')\n",
    "\n",
    "        # Graphic display\n",
    "        plt.plot(x_array, y_array, 'ro', label='Original data')\n",
    "        plt.plot(x_array, sess.run(W) * x_array + sess.run(b), label='Fitted line')\n",
    "        plt.legend()\n",
    "        plt.show()\n"
   ]
  },
  {
   "cell_type": "code",
   "execution_count": 8,
   "metadata": {},
   "outputs": [
    {
     "name": "stdout",
     "output_type": "stream",
     "text": [
      "9.3525259743\n"
     ]
    }
   ],
   "source": [
    "with tf.name_scope(\"Finding_root_mean_square_error\"):\n",
    "    rms = tf.sqrt(tf.reduce_mean(tf.squared_difference(x_array, y_array,name = \"Finding_squared_difference\"),name=\"Finding_mean\"),name = \"Finding_square_root\")\n",
    "    with tf.Session() as sess:\n",
    "        rmse=sess.run(rms)\n",
    "        print(rmse)"
   ]
  },
  {
   "cell_type": "code",
   "execution_count": 9,
   "metadata": {},
   "outputs": [
    {
     "name": "stdout",
     "output_type": "stream",
     "text": [
      "0.230913\n"
     ]
    }
   ],
   "source": [
    "with tf.name_scope(\"Finding_theta_1\"): \n",
    "    y_var = tf.subtract(y,result_y,name = \"Subtract_y_array_with_y_mean\")\n",
    "    x_var = tf.subtract(x,m,name = \"Subtract_x_array_with_x_mean\")\n",
    "    mult = tf.multiply(x_var,y_var,name = \"Multiply_calculated_arrays\")\n",
    "    sumn = tf.reduce_sum(mult,name = \"Find_sum_of_x_i_minus_mean_x_and_y_i_minus_mean_y\")\n",
    "    x_var2 = tf.multiply(x_var,x_var,name = \"Squaring_found_arrray_values\")\n",
    "    sumd = tf.reduce_sum(x_var2,name = \"Find_sum_of_array_of_x_i_minus_mean_x\")\n",
    "    val = sumn/sumd\n",
    "\n",
    "    with tf.Session() as sess:\n",
    "        res = sess.run(val)\n",
    "        print(res)"
   ]
  },
  {
   "cell_type": "code",
   "execution_count": 10,
   "metadata": {},
   "outputs": [
    {
     "name": "stdout",
     "output_type": "stream",
     "text": [
      "-1.32509\n"
     ]
    }
   ],
   "source": [
    "with tf.name_scope(\"Finding_theta_0\"):    \n",
    "    temp = tf.multiply(res,m,name = \"Multiply_res_with_slope\")\n",
    "    theta = tf.subtract(result_y,temp,name=\"Sub_obtained_res_with_mean_y\")\n",
    "    with tf.Session() as sess:\n",
    "        theta0 = sess.run(theta)\n",
    "        print(theta0)"
   ]
  },
  {
   "cell_type": "code",
   "execution_count": 11,
   "metadata": {},
   "outputs": [
    {
     "name": "stdout",
     "output_type": "stream",
     "text": [
      "[-1.0941757   0.45293832 -0.09663343  0.49450266 -2.30184841 -1.29968786\n",
      "  0.19200718 -1.613729   -2.08940887  0.8570354 ]\n"
     ]
    }
   ],
   "source": [
    "with tf.name_scope(\"Finding_predictions\"):\n",
    "    mx = tf.multiply(res,x,name = \"Multiply_res_with_x_array\")\n",
    "    y_temp = tf.add(mx,theta0,name = \"Add_m_multiplied_x_array_with_c\")\n",
    "    with tf.Session() as sess:\n",
    "        y_new = sess.run(y_temp)\n",
    "        print(y_new)"
   ]
  },
  {
   "cell_type": "code",
   "execution_count": 12,
   "metadata": {},
   "outputs": [
    {
     "name": "stdout",
     "output_type": "stream",
     "text": [
      "30.6031\n"
     ]
    }
   ],
   "source": [
    "t_minus = tf.subtract(y_new,y,name = \"Sub_new_preds_with_original_y\")\n",
    "t_squared = tf.multiply(t_minus,t_minus,name= \"Square_obtained_res\")\n",
    "t_sum = tf.reduce_sum(t_squared,name=\"Find_array_sum\")\n",
    "j_theta = tf.div(t_sum,20,name=\"Divide_by_no_of_elements\")\n",
    "with tf.Session() as sess:\n",
    "    print(sess.run(j_theta))\n"
   ]
  },
  {
   "cell_type": "code",
   "execution_count": 13,
   "metadata": {},
   "outputs": [
    {
     "name": "stdout",
     "output_type": "stream",
     "text": [
      "30.6031\n"
     ]
    }
   ],
   "source": [
    "with tf.Session() as sess:\n",
    "    writer = tf.summary.FileWriter(\"/tmp/tboard/output_regg2\", sess.graph)\n",
    "    print(sess.run(j_theta))\n",
    "    writer.close()"
   ]
  },
  {
   "cell_type": "code",
   "execution_count": null,
   "metadata": {
    "collapsed": true
   },
   "outputs": [],
   "source": []
  }
 ],
 "metadata": {
  "kernelspec": {
   "display_name": "Python 3",
   "language": "python",
   "name": "python3"
  },
  "language_info": {
   "codemirror_mode": {
    "name": "ipython",
    "version": 3
   },
   "file_extension": ".py",
   "mimetype": "text/x-python",
   "name": "python",
   "nbconvert_exporter": "python",
   "pygments_lexer": "ipython3",
   "version": "3.6.1"
  }
 },
 "nbformat": 4,
 "nbformat_minor": 2
}
